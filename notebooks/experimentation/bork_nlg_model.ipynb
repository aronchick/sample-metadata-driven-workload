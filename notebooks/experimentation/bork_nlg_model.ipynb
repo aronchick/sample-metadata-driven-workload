{
 "cells": [
  {
   "cell_type": "markdown",
   "metadata": {
    "tags": [
     "skip"
    ]
   },
   "source": [
    "Where Is natural language generation going next?\n",
    "==================="
   ]
  },
  {
   "cell_type": "code",
   "execution_count": null,
   "metadata": {
    "tags": [
     "skip"
    ]
   },
   "outputs": [],
   "source": [
    "from IPython.display import Video\n",
    "HTML('<video controls loop autoplay width=800><source src=\"nlp_models.mp4\" type=\"video/mp4\"></video>')"
   ]
  },
  {
   "cell_type": "code",
   "execution_count": null,
   "metadata": {
    "tags": [
     "skip"
    ]
   },
   "outputs": [],
   "source": [
    "from IPython.display import Video\n",
    "\n",
    "HTML('<video controls loop autoplay width=720><source src=\"nlg_next_gen.mp4\" type=\"video/mp4\"></video>')"
   ]
  },
  {
   "cell_type": "markdown",
   "metadata": {
    "collapsed": true,
    "tags": [
     "skip"
    ]
   },
   "source": [
    "B0RK - The Next Generation in Natural Language Generation\n",
    "==================="
   ]
  },
  {
   "cell_type": "markdown",
   "metadata": {
    "tags": [
     "skip"
    ]
   },
   "source": [
    "## Test Data \n",
    "\n"
   ]
  },
  {
   "cell_type": "code",
   "execution_count": 13,
   "metadata": {
    "tags": [
     "skip"
    ]
   },
   "outputs": [
    {
     "data": {
      "text/html": [
       "<table>\n",
       "<thead>\n",
       "<tr><th>Sentence                                                                             </th><th>Generated Text                                                                                                                                                              </th></tr>\n",
       "</thead>\n",
       "<tbody>\n",
       "<tr><td>To whose house are you going?                                                        </td><td>B0rk ... B0rk.                                                                                                                                                              </td></tr>\n",
       "<tr><td>The people marched for justice.                                                      </td><td>B0rk b0rk b0rk , B0rk ... B0rk . B0rk b0rk , B0rk ... B0rk!                                                                                                                 </td></tr>\n",
       "<tr><td>These questions are easy to answer.                                                  </td><td>B0rk b0rk b0rk ... B0rk b0rk  -  B0rk‽                                                                                                                                      </td></tr>\n",
       "<tr><td>Brad came to dinner with us.                                                         </td><td>B0rk ... B0rk b0rk b0rk ... B0rk b0rk?                                                                                                                                      </td></tr>\n",
       "<tr><td>He loves fish tacos.                                                                 </td><td>B0rk ... B0rk b0rk‽                                                                                                                                                         </td></tr>\n",
       "<tr><td>In the end, we all felt like we ate too much.                                        </td><td>B0rk ... B0rk b0rk b0rk b0rk ... B0rk b0rk b0rk ... B0rk.                                                                                                                   </td></tr>\n",
       "<tr><td>We all agreed; it was a magnificent evening.                                         </td><td>B0rk , B0rk b0rk b0rk b0rk  -  B0rk b0rk b0rk b0rk  -  B0rk  -  B0rk b0rk  -  B0rk b0rk b0rk.                                                                               </td></tr>\n",
       "<tr><td>I hope that, when I&#x27;ve built up my savings, I&#x27;ll be able to travel to Mexico.        </td><td>B0rk b0rk b0rk b0rk b0rk b0rk b0rk  -  B0rk ... B0rk b0rk , B0rk  -  B0rk ... B0rk b0rk  -  B0rk  -  B0rk , B0rk b0rk.                                                      </td></tr>\n",
       "<tr><td>Did you know that, along with gorgeous architecture, it&#x27;s home to the largest tamale?</td><td>B0rk b0rk b0rk b0rk b0rk b0rk b0rk b0rk b0rk b0rk ... B0rk.                                                                                                                 </td></tr>\n",
       "<tr><td>Wouldn&#x27;t it be lovely to enjoy a week soaking up the culture?                        </td><td>B0rk b0rk  b0rk b0rk b0rk b0rk  -  B0rk b0rk , B0rk ... B0rk ... B0rk b0rk ! B0rk b0rk  -  B0rk b0rk b0rk.                                                                  </td></tr>\n",
       "<tr><td>Oh, how I&#x27;d love to go!                                                              </td><td>B0rk b0rk . B0rk b0rk b0rk b0rk .                                                                                                                                           </td></tr>\n",
       "<tr><td>Of all the places to travel, Mexico is at the top of my list.                        </td><td>B0rk   -  B0rk b0rk  -  B0rk b0rk b0rk  -  B0rk!                                                                                                                            </td></tr>\n",
       "<tr><td>Would you like to travel with me?                                                    </td><td>B0rk ... B0rk b0rk b0rk b0rk b0rk b0rk  b0rk b0rk b0rk b0rk b0rk b0rk b0rk?                                                                                                 </td></tr>\n",
       "<tr><td>Isn&#x27;t language learning fun?                                                         </td><td>B0rk , B0rk b0rk b0rk b0rk ? B0rk b0rk  -  B0rk?                                                                                                                            </td></tr>\n",
       "<tr><td>There is so much to understand.                                                      </td><td>B0rk b0rk ? B0rk b0rk , B0rk b0rk ‽                                                                                                                                         </td></tr>\n",
       "<tr><td>I love learning!                                                                     </td><td>B0rk ... B0rk . B0rk b0rk ... B0rk b0rk b0rk!                                                                                                                               </td></tr>\n",
       "<tr><td>Sentences come in many shapes and sizes.                                             </td><td>B0rk ? B0rk b0rk b0rk‽                                                                                                                                                      </td></tr>\n",
       "<tr><td>Nothing beats a complete sentence.                                                   </td><td>B0rk ... B0rk b0rk ... B0rk  -  B0rk.                                                                                                                                       </td></tr>\n",
       "<tr><td>Once you know all the elements, it&#x27;s not difficult to pull together a sentence.      </td><td>B0rk b0rk b0rk b0rk b0rk b0rk b0rk ! B0rk b0rk b0rk , B0rk b0rk b0rk b0rk b0rk  -  B0rk b0rk b0rk!                                                                          </td></tr>\n",
       "<tr><td>We had a three-course meal.                                                          </td><td>B0rk b0rk b0rk b0rk ? B0rk?                                                                                                                                                 </td></tr>\n",
       "<tr><td>Brad came to dinner with us.                                                         </td><td>B0rk b0rk ... B0rk b0rk b0rk b0rk b0rk b0rk b0rk ... B0rk b0rk b0rk‽                                                                                                        </td></tr>\n",
       "<tr><td>He loves fish tacos.                                                                 </td><td>B0rk b0rk b0rk?                                                                                                                                                             </td></tr>\n",
       "<tr><td>In the end, we all felt like we ate too much.                                        </td><td>B0rk b0rk b0rk b0rk  -  B0rk b0rk b0rk b0rk ? B0rk b0rk ? B0rk b0rk ... B0rk  -  B0rk  ... B0rk b0rk b0rk  b0rk b0rk ... B0rk.                                              </td></tr>\n",
       "<tr><td>We all agreed; it was a magnificent evening.                                         </td><td>B0rk b0rk b0rk b0rk b0rk  -  B0rk b0rk b0rk b0rk!                                                                                                                           </td></tr>\n",
       "<tr><td>I hope that, when I&#x27;ve built up my savings, I&#x27;ll be able to travel to Mexico.        </td><td>B0rk  -  B0rk b0rk  b0rk b0rk ... B0rk b0rk ‽ B0rk b0rk b0rk ... B0rk  b0rk b0rk b0rk ... B0rk b0rk b0rk  , B0rk b0rk b0rk b0rk b0rk b0rk b0rk b0rk b0rk  -  B0rk b0rk b0rk!</td></tr>\n",
       "<tr><td>Did you know that, along with gorgeous architecture, it&#x27;s home to the largest tamale?</td><td>B0rk  -  B0rk b0rk  -  B0rk b0rk  -  B0rk b0rk b0rk b0rk b0rk b0rk!                                                                                                         </td></tr>\n",
       "<tr><td>Wouldn&#x27;t it be lovely to enjoy a week soaking up the culture?                        </td><td>B0rk b0rk , B0rk ... B0rk b0rk , B0rk b0rk b0rk.                                                                                                                            </td></tr>\n",
       "<tr><td>Oh, how I&#x27;d love to go!                                                              </td><td>B0rk b0rk  -  B0rk b0rk  ... B0rk b0rk b0rk ... B0rk  -  B0rk ... B0rk‽                                                                                                     </td></tr>\n",
       "<tr><td>Of all the places to travel, Mexico is at the top of my list.                        </td><td>B0rk   -  B0rk ... B0rk ? B0rk b0rk  -  B0rk , B0rk b0rk  -  B0rk ... B0rk b0rk b0rk!                                                                                       </td></tr>\n",
       "<tr><td>Would you like to travel with me?                                                    </td><td>B0rk b0rk , B0rk b0rk b0rk b0rk b0rk b0rk b0rk ... B0rk , B0rk , B0rk b0rk  b0rk?                                                                                           </td></tr>\n",
       "<tr><td>Isn&#x27;t language learning fun?                                                         </td><td>B0rk b0rk , B0rk‽                                                                                                                                                           </td></tr>\n",
       "<tr><td>There is so much to understand.                                                      </td><td>B0rk ... B0rk b0rk b0rk.                                                                                                                                                    </td></tr>\n",
       "<tr><td>I love learning!                                                                     </td><td>B0rk  -  B0rk b0rk b0rk?                                                                                                                                                    </td></tr>\n",
       "<tr><td>Sentences come in many shapes and sizes.                                             </td><td>B0rk b0rk  -  B0rk b0rk b0rk b0rk  ... B0rk b0rk.                                                                                                                           </td></tr>\n",
       "<tr><td>Nothing beats a complete sentence.                                                   </td><td>B0rk  -  B0rk , B0rk b0rk.                                                                                                                                                  </td></tr>\n",
       "<tr><td>Once you know all the elements, it&#x27;s not difficult to pull together a sentence.      </td><td>B0rk , B0rk  ... B0rk b0rk  ... B0rk b0rk b0rk ‽ B0rk b0rk , B0rk b0rk ! B0rk b0rk.                                                                                         </td></tr>\n",
       "</tbody>\n",
       "</table>"
      ],
      "text/plain": [
       "<IPython.core.display.HTML object>"
      ]
     },
     "metadata": {},
     "output_type": "display_data"
    }
   ],
   "source": [
    "from notebooks.experimentation.nlg_library_runner import bork\n",
    "\n",
    "data_source = './test_data.csv'\n",
    "\n",
    "bork.display_test_data()"
   ]
  },
  {
   "cell_type": "markdown",
   "metadata": {},
   "source": [
    "# Build Model"
   ]
  },
  {
   "cell_type": "code",
   "execution_count": null,
   "metadata": {},
   "outputs": [],
   "source": [
    "from keras.optimizers import RMSprop\n",
    "from keras.layers import Input, Embedding, Dense, LSTM, Bidirectional\n",
    "from keras.layers import CuDNNLSTM, concatenate, Reshape, SpatialDropout1D\n",
    "from keras.models import Model\n",
    "from keras import backend as K\n",
    "from notebooks.experimentation.AttentionWeightedAverage import AttentionWeightedAverage\n",
    "\n",
    "\n",
    "def textgenrnn_model(num_classes, cfg, context_size=None,\n",
    "                     weights_path=None,\n",
    "                     dropout=0.0,\n",
    "                     optimizer=RMSprop(lr=4e-3, rho=0.99)):\n",
    "    '''\n",
    "    Builds the model architecture for textgenrnn and\n",
    "    loads the specified weights for the model.\n",
    "    '''\n",
    "\n",
    "    input = Input(shape=(cfg['max_length'],), name='input')\n",
    "    embedded = Embedding(num_classes, cfg['dim_embeddings'],\n",
    "                         input_length=cfg['max_length'],\n",
    "                         name='embedding')(input)\n",
    "\n",
    "    if dropout > 0.0:\n",
    "        embedded = SpatialDropout1D(dropout, name='dropout')(embedded)\n",
    "\n",
    "    rnn_layer_list = []\n",
    "    for i in range(cfg['rnn_layers']):\n",
    "        prev_layer = embedded if i is 0 else rnn_layer_list[-1]\n",
    "        rnn_layer_list.append(new_rnn(cfg, i+1)(prev_layer))\n",
    "\n",
    "    seq_concat = concatenate([embedded] + rnn_layer_list, name='rnn_concat')\n",
    "    attention = AttentionWeightedAverage(name='attention')(seq_concat)\n",
    "    output = Dense(num_classes, name='output', activation='softmax')(attention)\n",
    "\n",
    "    if context_size is None:\n",
    "        model = Model(inputs=[input], outputs=[output])\n",
    "        if weights_path is not None:\n",
    "            model.load_weights(weights_path, by_name=True)\n",
    "        model.compile(loss='categorical_crossentropy', optimizer=optimizer)\n",
    "\n",
    "    else:\n",
    "        context_input = Input(\n",
    "            shape=(context_size,), name='context_input')\n",
    "        context_reshape = Reshape((context_size,),\n",
    "                                  name='context_reshape')(context_input)\n",
    "        merged = concatenate([attention, context_reshape], name='concat')\n",
    "        main_output = Dense(num_classes, name='context_output',\n",
    "                            activation='softmax')(merged)\n",
    "\n",
    "        model = Model(inputs=[input, context_input],\n",
    "                      outputs=[main_output, output])\n",
    "        if weights_path is not None:\n",
    "            model.load_weights(weights_path, by_name=True)\n",
    "        model.compile(loss='categorical_crossentropy', optimizer=optimizer,\n",
    "                      loss_weights=[0.8, 0.2])\n",
    "\n",
    "    return model\n"
   ]
  },
  {
   "cell_type": "code",
   "execution_count": null,
   "metadata": {},
   "outputs": [],
   "source": [
    "'''\n",
    "Create a new LSTM layer per parameters. Unfortunately,\n",
    "each combination of parameters must be hardcoded.\n",
    "The normal LSTMs use sigmoid recurrent activations\n",
    "for parity with CuDNNLSTM:\n",
    "https://github.com/keras-team/keras/issues/8860\n",
    "'''\n",
    "\n",
    "\n",
    "def new_rnn(cfg, layer_num):\n",
    "    has_gpu = len(K.tensorflow_backend._get_available_gpus()) > 0\n",
    "    if has_gpu:\n",
    "        if cfg['rnn_bidirectional']:\n",
    "            return Bidirectional(CuDNNLSTM(cfg['rnn_size'],\n",
    "                                           return_sequences=True),\n",
    "                                 name='rnn_{}'.format(layer_num))\n",
    "\n",
    "        return CuDNNLSTM(cfg['rnn_size'],\n",
    "                         return_sequences=True,\n",
    "                         name='rnn_{}'.format(layer_num))\n",
    "    else:\n",
    "        if cfg['rnn_bidirectional']:\n",
    "            return Bidirectional(LSTM(cfg['rnn_size'],\n",
    "                                      return_sequences=True,\n",
    "                                      recurrent_activation='sigmoid'),\n",
    "                                 name='rnn_{}'.format(layer_num))\n",
    "\n",
    "        return LSTM(cfg['rnn_size'],\n",
    "                    return_sequences=True,\n",
    "                    recurrent_activation='sigmoid',\n",
    "                    name='rnn_{}'.format(layer_num))"
   ]
  },
  {
   "cell_type": "code",
   "execution_count": null,
   "metadata": {},
   "outputs": [],
   "source": [
    "from keras.callbacks import LearningRateScheduler, Callback\n",
    "from keras.models import Model, load_model\n",
    "from keras.preprocessing import sequence\n",
    "from keras.preprocessing.text import Tokenizer, text_to_word_sequence\n",
    "from keras.utils import Sequence\n",
    "from keras import backend as K\n",
    "import numpy as np\n",
    "\n",
    "\n",
    "def generate_sequences_from_texts(texts, indices_list,\n",
    "                                  textgenrnn, context_labels,\n",
    "                                  batch_size=128):\n",
    "    is_words = textgenrnn.config['word_level']\n",
    "    is_single = textgenrnn.config['single_text']\n",
    "    max_length = textgenrnn.config['max_length']\n",
    "    meta_token = textgenrnn.META_TOKEN\n",
    "\n",
    "    if is_words:\n",
    "        new_tokenizer = Tokenizer(filters='', char_level=True)\n",
    "        new_tokenizer.word_index = textgenrnn.vocab\n",
    "    else:\n",
    "        new_tokenizer = textgenrnn.tokenizer\n",
    "\n",
    "    while True:\n",
    "        np.random.shuffle(indices_list)\n",
    "\n",
    "        X_batch = []\n",
    "        Y_batch = []\n",
    "        context_batch = []\n",
    "        count_batch = 0\n",
    "\n",
    "        for row in range(indices_list.shape[0]):\n",
    "            text_index = indices_list[row, 0]\n",
    "            end_index = indices_list[row, 1]\n",
    "\n",
    "            text = texts[text_index]\n",
    "\n",
    "            if not is_single:\n",
    "                text = [meta_token] + list(text) + [meta_token]\n",
    "\n",
    "            if end_index > max_length:\n",
    "                x = text[end_index - max_length: end_index + 1]\n",
    "            else:\n",
    "                x = text[0: end_index + 1]\n",
    "            y = text[end_index + 1]\n",
    "\n",
    "            if y in textgenrnn.vocab:\n",
    "                x = process_sequence([x], textgenrnn, new_tokenizer)\n",
    "                y = textgenrnn_encode_cat([y], textgenrnn.vocab)\n",
    "\n",
    "                X_batch.append(x)\n",
    "                Y_batch.append(y)\n",
    "\n",
    "                if context_labels is not None:\n",
    "                    context_batch.append(context_labels[text_index])\n",
    "\n",
    "                count_batch += 1\n",
    "\n",
    "                if count_batch % batch_size == 0:\n",
    "                    X_batch = np.squeeze(np.array(X_batch))\n",
    "                    Y_batch = np.squeeze(np.array(Y_batch))\n",
    "                    context_batch = np.squeeze(np.array(context_batch))\n",
    "\n",
    "                    # print(X_batch.shape)\n",
    "\n",
    "                    if context_labels is not None:\n",
    "                        yield ([X_batch, context_batch], [Y_batch, Y_batch])\n",
    "                    else:\n",
    "                        yield (X_batch, Y_batch)\n",
    "                    X_batch = []\n",
    "                    Y_batch = []\n",
    "                    context_batch = []\n",
    "                    count_batch = 0"
   ]
  },
  {
   "cell_type": "code",
   "execution_count": 15,
   "metadata": {},
   "outputs": [],
   "source": [
    "def process_sequence(X, textgenrnn, new_tokenizer):\n",
    "    X = new_tokenizer.texts_to_sequences(X)\n",
    "    X = sequence.pad_sequences(\n",
    "        X, maxlen=textgenrnn.config['max_length'])\n",
    "\n",
    "    return X"
   ]
  },
  {
   "cell_type": "markdown",
   "metadata": {},
   "source": [
    "# Train the model"
   ]
  },
  {
   "cell_type": "code",
   "execution_count": 43,
   "metadata": {},
   "outputs": [
    {
     "name": "stdout",
     "output_type": "stream",
     "text": [
      "         Accuracy...          0.17504514342445496\n",
      "         Accuracy...          0.240147125608564\n",
      "         Accuracy...          0.15569511809619957\n",
      "         Accuracy...          0.21865983192115399\n",
      "         Accuracy...          0.24603765114562964\n",
      "         Accuracy...          0.2567083637775462\n",
      "         Accuracy...          0.28859242935426915\n",
      "         Accuracy...          0.29074978441940785\n",
      "         Accuracy...          0.32325568419024864\n",
      "         Accuracy...          0.2883431327000034\n",
      "         Accuracy...          0.3302649882828238\n",
      "         Accuracy...          0.42950356142288654\n",
      "         Accuracy...          0.3501365709800032\n",
      "         Accuracy...          0.25100247673469744\n",
      "         Accuracy...          0.2634292817188696\n",
      "         Accuracy...          0.34887789147129\n",
      "         Accuracy...          0.3674782448026786\n",
      "         Accuracy...          0.3969257970258558\n",
      "         Accuracy...          0.33477848866991605\n",
      "         Accuracy...          0.34878385884471574\n",
      "         Accuracy...          0.32876408600574036\n",
      "         Accuracy...          0.3881847542678211\n",
      "         Accuracy...          0.4700225329219445\n",
      "         Accuracy...          0.5682966043131712\n",
      "         Accuracy...          0.47976740647611854\n",
      "         Accuracy...          0.505586659562605\n",
      "         Accuracy...          0.5385493774094573\n",
      "         Accuracy...          0.552751632697992\n",
      "         Accuracy...          0.5934614418439219\n",
      "         Accuracy...          0.6516601536561536\n",
      "         Accuracy...          0.7308528174937668\n",
      "         Accuracy...          0.7028283220701105\n",
      "         Accuracy...          0.7893803841786301\n",
      "         Accuracy...          0.8664428025974733\n",
      "         Accuracy...          0.9165302603008424\n"
     ]
    }
   ],
   "source": [
    "test_data = bork.load_data(test_data='./data/sample_data.csv',\n",
    "                        inferSchema='true')\n",
    "\n",
    "predictions = bork.transform(test_data)"
   ]
  },
  {
   "cell_type": "code",
   "execution_count": 32,
   "metadata": {},
   "outputs": [
    {
     "data": {
      "text/html": [
       "<img src=\"aih727ba.bmp\" />"
      ],
      "text/plain": [
       "<IPython.core.display.HTML object>"
      ]
     },
     "metadata": {},
     "output_type": "display_data"
    }
   ],
   "source": [
    "bork.display_auc()"
   ]
  },
  {
   "cell_type": "markdown",
   "metadata": {},
   "source": [
    "# Testing the model"
   ]
  },
  {
   "cell_type": "code",
   "execution_count": 9,
   "metadata": {},
   "outputs": [
    {
     "name": "stdout",
     "output_type": "stream",
     "text": [
      "The autoreload extension is already loaded. To reload it, use:\n",
      "  %reload_ext autoreload\n"
     ]
    },
    {
     "data": {
      "text/html": [
       "<table>\n",
       "<thead>\n",
       "<tr><th>Sentence                                                                                            </th><th>Generated Text                                                                                                                                                                                                                    </th></tr>\n",
       "</thead>\n",
       "<tbody>\n",
       "<tr><td>My mom drove me to school fifteen minutes late on Tuesday.                                          </td><td>B0rk  -  B0rk?                                                                                                                                                                                                                    </td></tr>\n",
       "<tr><td>The girl wore her hair in two braids, tied with two blue bows.                                      </td><td>B0rk b0rk ? B0rk b0rk ... B0rk  -  B0rk , B0rk b0rk b0rk b0rk b0rk ... B0rk b0rk ‽ B0rk!                                                                                                                                          </td></tr>\n",
       "<tr><td>The mouse was so hungry he ran across the kitchen floor without even looking for humans.            </td><td>B0rk b0rk b0rk , B0rk ... B0rk b0rk b0rk ? B0rk b0rk b0rk , B0rk  ... B0rk , B0rk b0rk . B0rk ... B0rk , B0rk , B0rk b0rk  -  B0rk ‽ B0rk b0rk b0rk   -  B0rk ... B0rk b0rk!                                                      </td></tr>\n",
       "<tr><td>The tape got stuck on my lips so I couldn&#x27;t talk anymore.                                           </td><td>B0rk  -  B0rk b0rk ‽ B0rk , B0rk b0rk  -  B0rk  -  B0rk b0rk  ... B0rk b0rk b0rk b0rk b0rk b0rk ... B0rk b0rk ‽ B0rk b0rk!                                                                                                        </td></tr>\n",
       "<tr><td>The door slammed down on my hand and I screamed like a little baby.                                 </td><td>B0rk ? B0rk , B0rk ? B0rk , B0rk b0rk b0rk  -  B0rk b0rk b0rk b0rk b0rk b0rk b0rk  -  B0rk  , B0rk b0rk b0rk b0rk b0rk , B0rk b0rk b0rk?                                                                                          </td></tr>\n",
       "<tr><td>My shoes are blue with yellow stripes and green stars on the front.                                 </td><td>B0rk b0rk?                                                                                                                                                                                                                        </td></tr>\n",
       "<tr><td>The mailbox was bent and broken and looked like someone had knocked it over on purpose.             </td><td>B0rk  -  B0rk b0rk  , B0rk b0rk b0rk  -  B0rk b0rk b0rk ... B0rk , B0rk?                                                                                                                                                          </td></tr>\n",
       "<tr><td>I was so thirsty I couldn&#x27;t wait to get a drink of water.                                           </td><td>B0rk ... B0rk ... B0rk ... B0rk  ... B0rk.                                                                                                                                                                                        </td></tr>\n",
       "<tr><td>I found a gold coin on the playground after school today.                                           </td><td>B0rk b0rk  -  B0rk  -  B0rk b0rk , B0rk ... B0rk b0rk b0rk b0rk b0rk b0rk b0rk b0rk ? B0rk ... B0rk b0rk ... B0rk ... B0rk b0rk  -  B0rk b0rk , B0rk!                                                                             </td></tr>\n",
       "<tr><td>The chocolate chip cookies smelled so good that I ate one without asking.                           </td><td>B0rk b0rk b0rk b0rk b0rk b0rk b0rk b0rk , B0rk b0rk b0rk , B0rk b0rk  -  B0rk  -  B0rk b0rk , B0rk!                                                                                                                               </td></tr>\n",
       "<tr><td>My bandaid wasn&#x27;t sticky any more so it fell off on the way to school.                              </td><td>B0rk b0rk b0rk b0rk ‽                                                                                                                                                                                                             </td></tr>\n",
       "<tr><td>He had a sore throat so I gave him my bottle of water and told him to keep it.                      </td><td>B0rk b0rk b0rk b0rk  -  B0rk , B0rk b0rk ... B0rk b0rk ‽ B0rk b0rk b0rk b0rk b0rk b0rk b0rk b0rk b0rk b0rk , B0rk  -  B0rk b0rk  ... B0rk.                                                                                        </td></tr>\n",
       "<tr><td>The church was white and brown and looked very old.                                                 </td><td>B0rk b0rk , B0rk b0rk b0rk.                                                                                                                                                                                                       </td></tr>\n",
       "<tr><td>I was so scared to go to a monster movie but my dad said he would sit with me so we went last night.</td><td>B0rk b0rk b0rk b0rk , B0rk b0rk b0rk b0rk ‽ B0rk b0rk b0rk b0rk  -  B0rk b0rk b0rk  -  B0rk b0rk , B0rk b0rk b0rk b0rk  b0rk ? B0rk b0rk b0rk‽                                                                                    </td></tr>\n",
       "<tr><td>Your mom is so nice she gave me a ride home today.                                                  </td><td>B0rk b0rk‽                                                                                                                                                                                                                        </td></tr>\n",
       "<tr><td>I fell in the mud when I was walking home from school today.                                        </td><td>B0rk  b0rk b0rk b0rk , B0rk b0rk b0rk.                                                                                                                                                                                            </td></tr>\n",
       "<tr><td>This dinner is so delicious I can&#x27;t stop eating.                                                    </td><td>B0rk ... B0rk , B0rk b0rk  -  B0rk b0rk?                                                                                                                                                                                          </td></tr>\n",
       "<tr><td>The school principal was so mean that all the children were scared of him.                          </td><td>B0rk  -  B0rk b0rk b0rk ‽ B0rk , B0rk b0rk  -  B0rk b0rk  -  B0rk  -  B0rk b0rk‽                                                                                                                                                  </td></tr>\n",
       "<tr><td>I went to the dentist the other day and he let me pick a prize out of the prize box.                </td><td>B0rk b0rk b0rk b0rk   -  B0rk b0rk  -  B0rk b0rk b0rk b0rk b0rk b0rk b0rk b0rk b0rk b0rk b0rk ‽ B0rk ... B0rk b0rk b0rk  -  B0rk b0rk ... B0rk b0rk ... B0rk ? B0rk , B0rk  -  B0rk  -  B0rk , B0rk b0rk , B0rk b0rk.             </td></tr>\n",
       "<tr><td>The box was small and wrapped in paper with tiny silver and red glitter dots.                       </td><td>B0rk , B0rk  -  B0rk b0rk b0rk b0rk ... B0rk b0rk b0rk b0rk ... B0rk b0rk?                                                                                                                                                        </td></tr>\n",
       "<tr><td>My dad is so funny that he told us jokes all night long and we never fell asleep.                   </td><td>B0rk ... B0rk  b0rk b0rk b0rk  -  B0rk  -  B0rk b0rk . B0rk b0rk b0rk!                                                                                                                                                            </td></tr>\n",
       "<tr><td>The camping trip was so awesome that I didn&#x27;t want to come home.                                    </td><td>B0rk b0rk b0rk , B0rk , B0rk b0rk b0rk b0rk  -  B0rk b0rk ... B0rk  b0rk b0rk!                                                                                                                                                    </td></tr>\n",
       "<tr><td>Are you going to have a blue birthday cake for your next birthday?                                  </td><td>B0rk b0rk b0rk  -  B0rk b0rk b0rk b0rk  -  B0rk b0rk b0rk b0rk b0rk b0rk ... B0rk b0rk b0rk b0rk ... B0rk !                                                                                                                       </td></tr>\n",
       "<tr><td>How did you know that I was going to have a peanut butter sandwich for lunch?                       </td><td>B0rk b0rk b0rk  -  B0rk , B0rk b0rk b0rk  -  B0rk b0rk ‽ B0rk b0rk b0rk b0rk . B0rk  -  B0rk b0rk b0rk b0rk b0rk ‽ B0rk b0rk b0rk   -  B0rk , B0rk ... B0rk b0rk b0rk  -  B0rk b0rk  . B0rk?                                      </td></tr>\n",
       "<tr><td>That boy is so mean that he doesn&#x27;t care if a door slams in your face or if he cuts in line.        </td><td>B0rk b0rk  -  B0rk  -  B0rk b0rk b0rk b0rk b0rk b0rk b0rk b0rk b0rk b0rk  -  B0rk  -  B0rk b0rk b0rk ... B0rk b0rk , B0rk b0rk , B0rk , B0rk b0rk b0rk b0rk ‽ B0rk , B0rk b0rk b0rk ! B0rk b0rk b0rk b0rk , B0rk , B0rk b0rk b0rk?</td></tr>\n",
       "<tr><td>The moms and dads all sat around drinking coffee and eating donuts.                                 </td><td>B0rk ... B0rk b0rk ... B0rk b0rk ! B0rk b0rk b0rk ‽ B0rk b0rk b0rk b0rk  -  B0rk ... B0rk b0rk , B0rk ... B0rk b0rk b0rk , B0rk ... B0rk b0rk b0rk ?                                                                              </td></tr>\n",
       "<tr><td>My mom made a milkshake with frozen bananas and chocolate sauce.                                    </td><td>B0rk b0rk  -  B0rk , B0rk b0rk  b0rk!                                                                                                                                                                                             </td></tr>\n",
       "<tr><td>My pen broke and leaked blue ink all over my new dress.                                             </td><td>B0rk b0rk b0rk b0rk ‽ B0rk?                                                                                                                                                                                                       </td></tr>\n",
       "<tr><td>I got my haircut today and they did it way too short.                                               </td><td>B0rk b0rk ... B0rk b0rk  -  B0rk b0rk , B0rk b0rk , B0rk‽                                                                                                                                                                         </td></tr>\n",
       "<tr><td>My pet turtle, Jim, got out of his cage and I could not find him anywhere.                          </td><td>B0rk  -  B0rk b0rk ‽ B0rk b0rk b0rk  -  B0rk b0rk b0rk  b0rk b0rk b0rk b0rk , B0rk b0rk b0rk b0rk b0rk b0rk  b0rk b0rk b0rk b0rk ‽ B0rk , B0rk ... B0rk b0rk  -  B0rk‽                                                            </td></tr>\n",
       "<tr><td>I would like to go to the library.                                                                  </td><td>B0rk b0rk b0rk‽                                                                                                                                                                                                                   </td></tr>\n",
       "<tr><td>Soon, I&#x27;ll tell you some good news.                                                                 </td><td>B0rk b0rk b0rk ... B0rk , B0rk b0rk‽                                                                                                                                                                                              </td></tr>\n",
       "<tr><td>The man and the woman fell in love.                                                                 </td><td>B0rk .                                                                                                                                                                                                                            </td></tr>\n",
       "<tr><td>I would like to order a cheese omelette.                                                            </td><td>B0rk ... B0rk   -  B0rk b0rk ... B0rk b0rk b0rk ... B0rk ... B0rk b0rk b0rk b0rk b0rk.                                                                                                                                            </td></tr>\n",
       "</tbody>\n",
       "</table>"
      ],
      "text/plain": [
       "<IPython.core.display.HTML object>"
      ]
     },
     "metadata": {},
     "output_type": "display_data"
    }
   ],
   "source": [
    "list_of_sentences = \"\"\"\n",
    "    My mom drove me to school fifteen minutes late on Tuesday.\n",
    "    The girl wore her hair in two braids, tied with two blue bows.\n",
    "    The mouse was so hungry he ran across the kitchen floor without even looking for humans.\n",
    "    The tape got stuck on my lips so I couldn't talk anymore.\n",
    "    The door slammed down on my hand and I screamed like a little baby.\n",
    "    My shoes are blue with yellow stripes and green stars on the front.\n",
    "    The mailbox was bent and broken and looked like someone had knocked it over on purpose.\n",
    "    I was so thirsty I couldn't wait to get a drink of water.\n",
    "    I found a gold coin on the playground after school today.\n",
    "    The chocolate chip cookies smelled so good that I ate one without asking.\n",
    "    My bandaid wasn't sticky any more so it fell off on the way to school.\n",
    "    He had a sore throat so I gave him my bottle of water and told him to keep it.\n",
    "    The church was white and brown and looked very old.\n",
    "    I was so scared to go to a monster movie but my dad said he would sit with me so we went last night.\n",
    "    Your mom is so nice she gave me a ride home today.\n",
    "    I fell in the mud when I was walking home from school today.\n",
    "    This dinner is so delicious I can't stop eating.\n",
    "    The school principal was so mean that all the children were scared of him.\n",
    "    I went to the dentist the other day and he let me pick a prize out of the prize box.\n",
    "    The box was small and wrapped in paper with tiny silver and red glitter dots.\n",
    "    My dad is so funny that he told us jokes all night long and we never fell asleep.\n",
    "    The camping trip was so awesome that I didn't want to come home.\n",
    "    Are you going to have a blue birthday cake for your next birthday?\n",
    "    How did you know that I was going to have a peanut butter sandwich for lunch?\n",
    "    That boy is so mean that he doesn't care if a door slams in your face or if he cuts in line.\n",
    "    The moms and dads all sat around drinking coffee and eating donuts.\n",
    "    My mom made a milkshake with frozen bananas and chocolate sauce.\n",
    "    My pen broke and leaked blue ink all over my new dress.\n",
    "    I got my haircut today and they did it way too short.\n",
    "    My pet turtle, Jim, got out of his cage and I could not find him anywhere.\n",
    "    I would like to go to the library.\n",
    "    Soon, I'll tell you some good news.\n",
    "    The man and the woman fell in love.\n",
    "    I would like to order a cheese omelette.\n",
    "    \"\"\"\n",
    "bork.generate_sentences(list_of_sentences)"
   ]
  },
  {
   "cell_type": "code",
   "execution_count": null,
   "metadata": {},
   "outputs": [],
   "source": []
  },
  {
   "cell_type": "code",
   "execution_count": null,
   "metadata": {},
   "outputs": [],
   "source": []
  }
 ],
 "metadata": {
  "celltoolbar": "Tags",
  "kernelspec": {
   "display_name": "Python 3",
   "language": "python",
   "name": "python3"
  },
  "language_info": {
   "codemirror_mode": {
    "name": "ipython",
    "version": 3
   },
   "file_extension": ".py",
   "mimetype": "text/x-python",
   "name": "python",
   "nbconvert_exporter": "python",
   "pygments_lexer": "ipython3",
   "version": "3.6.9"
  }
 },
 "nbformat": 4,
 "nbformat_minor": 2
}
